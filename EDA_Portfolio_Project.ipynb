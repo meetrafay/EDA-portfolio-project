{
  "nbformat": 4,
  "nbformat_minor": 0,
  "metadata": {
    "colab": {
      "provenance": [],
      "include_colab_link": true
    },
    "kernelspec": {
      "name": "python3",
      "display_name": "Python 3"
    },
    "language_info": {
      "name": "python"
    }
  },
  "cells": [
    {
      "cell_type": "markdown",
      "metadata": {
        "id": "view-in-github",
        "colab_type": "text"
      },
      "source": [
        "<a href=\"https://colab.research.google.com/github/meetrafay/EDA-portfolio-project/blob/main/EDA_Portfolio_Project.ipynb\" target=\"_parent\"><img src=\"https://colab.research.google.com/assets/colab-badge.svg\" alt=\"Open In Colab\"/></a>"
      ]
    },
    {
      "cell_type": "markdown",
      "source": [
        "EDA Portfolio Project - Treadmill Buyer Profile\n",
        "===========================================================\n",
        "Project Details\n",
        "---------------\n",
        "The market research team at AeroFit wants to identify the characteristics of the target audience for each type of treadmill offered by the company, to provide a better recommendation of the treadmills to new customers. The team decides to investigate whether there are differences across the product with respect to customer characteristics.\n",
        "Product Portfolio\n",
        "-------------------\n",
        "KP281: An entry-level treadmill that sells for $1,500\n",
        "KP481: For mid-level runners and sells for $1,750\n",
        "KP781: Treadmill with advanced features, and it sells for $2,500\n",
        "Data Description\n",
        "-----------------\n",
        "The company collected data on individuals who purchased a treadmill from the AeroFit stores during the prior three months. The dataset in aerofit_treadmill_data.csv has the following features:\n",
        "Product: Product purchased (KP281, KP481, or KP781)\n",
        "Age: In years\n",
        "Gender: Male/female\n",
        "Education: In years\n",
        "MaritalStatus: Single or partnered\n",
        "Usage: The average number of times the customer plans to use the treadmill each week\n",
        "Fitness: Self-rated fitness on a 1-5 scale, where 1 is poor shape and 5 is excellent shape\n",
        "Income: Annual income in US dollars\n",
        "Miles"
      ],
      "metadata": {
        "id": "jrLCfDxBUvn_"
      }
    },
    {
      "cell_type": "code",
      "execution_count": null,
      "metadata": {
        "id": "a79N7cwB3TKg"
      },
      "outputs": [],
      "source": [
        "import numpy as np\n",
        "import pandas as pd\n",
        "import matplotlib.pyplot as plt\n",
        "import seaborn as sns"
      ]
    },
    {
      "cell_type": "code",
      "source": [
        "import warnings\n",
        "warnings.filterwarnings('ignore')"
      ],
      "metadata": {
        "id": "JoU1Bf2E3nQo"
      },
      "execution_count": null,
      "outputs": []
    },
    {
      "cell_type": "markdown",
      "source": [
        "Data Exploration and Processing\n",
        "------------------------------------\n",
        "1. Importing Data\n",
        "Import necessary libraries and load the dataset.\n",
        "2. Reading DataFrame\n",
        "Read the dataset into a pandas DataFrame.\n",
        "3. Checking DataFrame Shape\n",
        "Verify the number of rows and columns in the DataFrame.\n",
        "4. Datatype of Each Column\n",
        "Check the data type of each column in the DataFrame.\n",
        "5. Missing Value Detection\n",
        "Identify and handle missing values in the dataset.\n",
        "6. Checking Duplicate Values\n",
        "Detect and remove duplicate values in the dataset.\n",
        "\n"
      ],
      "metadata": {
        "id": "gEYsOk93VjD2"
      }
    },
    {
      "cell_type": "code",
      "source": [
        "df = pd.read_csv('/content/aerofit_treadmill_data (2).csv')"
      ],
      "metadata": {
        "id": "-B2WCdH33n-G"
      },
      "execution_count": null,
      "outputs": []
    },
    {
      "cell_type": "code",
      "source": [
        "display(\"Shape:\", df.shape)"
      ],
      "metadata": {
        "id": "jB0ZZdix4943"
      },
      "execution_count": null,
      "outputs": []
    },
    {
      "cell_type": "code",
      "source": [
        "display(df.dtypes)"
      ],
      "metadata": {
        "id": "OacPENAm5WA9"
      },
      "execution_count": null,
      "outputs": []
    },
    {
      "cell_type": "code",
      "source": [
        "df.info()"
      ],
      "metadata": {
        "id": "8BEh0pXD5cBd"
      },
      "execution_count": null,
      "outputs": []
    },
    {
      "cell_type": "code",
      "source": [
        "df.describe()"
      ],
      "metadata": {
        "id": "4pH6bI3v5ndd"
      },
      "execution_count": null,
      "outputs": []
    },
    {
      "cell_type": "code",
      "source": [
        "df.describe(include='object')"
      ],
      "metadata": {
        "id": "PlUFZm5hH5XB"
      },
      "execution_count": null,
      "outputs": []
    },
    {
      "cell_type": "code",
      "source": [
        "# check null values\n",
        "df.isnull().sum()"
      ],
      "metadata": {
        "id": "xNHLCzZg6DHm"
      },
      "execution_count": null,
      "outputs": []
    },
    {
      "cell_type": "code",
      "source": [
        "# check duplicates\n",
        "df.duplicated().sum()"
      ],
      "metadata": {
        "id": "iqmMPMy0G2Q1"
      },
      "execution_count": null,
      "outputs": []
    },
    {
      "cell_type": "code",
      "source": [
        "df.head()"
      ],
      "metadata": {
        "id": "jx2JYZiN3xku"
      },
      "execution_count": null,
      "outputs": []
    },
    {
      "cell_type": "code",
      "source": [
        "df.tail()"
      ],
      "metadata": {
        "id": "yPOvYgHr3zH-"
      },
      "execution_count": null,
      "outputs": []
    },
    {
      "cell_type": "code",
      "source": [
        "display(df.columns)"
      ],
      "metadata": {
        "id": "IsCOWFAl5JtF"
      },
      "execution_count": null,
      "outputs": []
    },
    {
      "cell_type": "markdown",
      "source": [
        "# Provide an analysis of the statistical summary in few lines for both categorical and numerical features.\n",
        "\n",
        "## Statistical Summary Analysis\n",
        "\n",
        "**Numerical Features:**\n",
        "\n",
        "The statistical summary reveals the central tendency and dispersion of numerical features like Age, Education, Usage, Fitness, Income, and Miles.  The mean and median values offer insights into the typical customer profile.  Standard deviations indicate the spread of data around the mean, highlighting the variability within these features.  For example, a large standard deviation for Income might suggest a wide range of customer incomes.  Further analysis is needed to identify any potential outliers impacting the mean, as well as correlations between these features and product choice.  Minimum and maximum values might help define the range of these features for each product type.\n",
        "\n",
        "**Categorical Features:**\n",
        "\n",
        "The summary statistics for categorical features like Product, Gender, MaritalStatus provide frequency counts for each category.  This shows the proportion of customers in each product group, the gender distribution, and the marital status breakdown. This allows us to understand the customer demographics and preferences, revealing which products are more popular among specific customer groups. For example,  a higher frequency of a specific product category in a particular gender group could indicate that product's appeal towards that gender. More in depth analysis may reveal relationships between these categorical features."
      ],
      "metadata": {
        "id": "m5fnNhUqZPWW"
      }
    },
    {
      "cell_type": "markdown",
      "source": [
        "Non-Graphical Analysis\n",
        "--------------------------\n",
        "\n",
        "\\-------------------------\n",
        "\n",
        "Categorical Feature Analysis\n",
        "----------------------------\n",
        "\n",
        "Value Counts\n",
        "------------\n",
        "\n",
        "Value counts for all categorical features, providing the frequency distribution of each category.\n",
        "\n",
        "Unique Attributes\n",
        "-----------------\n",
        "\n",
        "Unique attributes for all categorical features, identifying distinct categories and their characteristics."
      ],
      "metadata": {
        "id": "JrK6mMs0dtnG"
      }
    },
    {
      "cell_type": "code",
      "source": [
        "# Identify categorical and numerical columns\n",
        "categorical_columns = df.select_dtypes(include='object').columns\n",
        "numerical_columns = df.select_dtypes(exclude='object').columns\n",
        " # all columns in the dataframe\n",
        "all_columns = df.columns"
      ],
      "metadata": {
        "id": "cM7D8cU4gzdG"
      },
      "execution_count": null,
      "outputs": []
    },
    {
      "cell_type": "code",
      "source": [
        "# List unique features\n",
        "for col in categorical_columns:\n",
        "    display(f\"\\nValue Counts for {col}:\")\n",
        "    display(df[col].value_counts())"
      ],
      "metadata": {
        "id": "WTF0B2mAeTL-"
      },
      "execution_count": null,
      "outputs": []
    },
    {
      "cell_type": "code",
      "source": [
        "# List distinct categories\n",
        "for col in categorical_columns:\n",
        "    print(f\"\\nUnique values for {col}:\")\n",
        "    print(df[col].unique())"
      ],
      "metadata": {
        "id": "WPpd5zWRf5sO"
      },
      "execution_count": null,
      "outputs": []
    },
    {
      "cell_type": "markdown",
      "source": [
        "Graphical Analysis\n",
        "------------------\n",
        "\n",
        "\\---------------------\n",
        "\n",
        "Univariate Analysis - Numerical Features\n",
        "----------------------------------------\n",
        "\n",
        "Visualization Tools\n",
        "-------------------\n",
        "\n",
        "*   Distribution Plot: Visualizing the distribution of numerical features to identify patterns and outliers.\n",
        "    \n",
        "*   Count Plot: Displaying the frequency of numerical values to understand the data density.\n",
        "    \n",
        "*   Box Plot: Illustrating the summary statistics (mean, median, quartiles) and identifying potential outliers."
      ],
      "metadata": {
        "id": "7l8S9F1Bf_p2"
      }
    },
    {
      "cell_type": "code",
      "source": [
        "plt.figure(figsize=(20, 10))\n",
        "\n",
        "for index, col in enumerate(numerical_columns):\n",
        "  plt.subplot(2, 3, index+1)\n",
        "  sns.distplot(df[col])\n",
        "  plt.title(f'{col} Distribution Plot (figure {index+1})')\n",
        "  plt.xticks(rotation=45)\n",
        "\n",
        "plt.tight_layout()\n",
        "plt.show()"
      ],
      "metadata": {
        "id": "mTMXcQNTgmU2"
      },
      "execution_count": null,
      "outputs": []
    },
    {
      "cell_type": "code",
      "source": [
        "plt.figure(figsize=(20, 10))\n",
        "\n",
        "for index, col in enumerate(numerical_columns):\n",
        "  plt.subplot(2, 3, index+1)\n",
        "  sns.countplot(df[col])\n",
        "  plt.title(f'{col} Count Plot (figure {index+1})')\n",
        "  plt.xticks(rotation=45)\n",
        "\n",
        "plt.tight_layout()\n",
        "plt.show()"
      ],
      "metadata": {
        "id": "epip6jL6hQrm"
      },
      "execution_count": null,
      "outputs": []
    },
    {
      "cell_type": "code",
      "source": [
        "plt.figure(figsize=(20, 10))\n",
        "\n",
        "for index, col in enumerate(numerical_columns):\n",
        "  plt.subplot(2, 3, index+1)\n",
        "  sns.boxplot(df[col])\n",
        "  plt.title(f'{col} Box Plot (figure {index+1})')\n",
        "  plt.xticks(rotation=45)\n",
        "\n",
        "plt.tight_layout()\n",
        "plt.show()"
      ],
      "metadata": {
        "id": "LvxmhEkgOAjk"
      },
      "execution_count": null,
      "outputs": []
    },
    {
      "cell_type": "markdown",
      "source": [
        "Univariate Analysis\n",
        "-------------------\n",
        "\n",
        "\\---------------------\n",
        "\n",
        "Categorical Features\n",
        "--------------------\n",
        "\n",
        "Visualization Tools\n",
        "-------------------\n",
        "\n",
        "*   Count Plot: Visualizing the frequency distribution of categorical features to identify the most common categories."
      ],
      "metadata": {
        "id": "RUh60m1yhov0"
      }
    },
    {
      "cell_type": "code",
      "source": [
        "plt.figure(figsize=(20, 10))\n",
        "\n",
        "for index, col in enumerate(categorical_columns):\n",
        "  plt.subplot(2, 3, index+1)\n",
        "  sns.countplot(x=df[col])\n",
        "  plt.title(f'{col} Count Plot (figure {index+1})')\n",
        "  plt.xticks(rotation=45)\n",
        "\n",
        "plt.tight_layout()\n",
        "plt.show()"
      ],
      "metadata": {
        "id": "EsqdWc9dfY21"
      },
      "execution_count": null,
      "outputs": []
    },
    {
      "cell_type": "markdown",
      "source": [
        "Bivariate Analysis\n",
        "------------------\n",
        "\n",
        "\\---------------------\n",
        "\n",
        "Analyzing Relationships\n",
        "-----------------------\n",
        "\n",
        "Feature Interactions\n",
        "--------------------\n",
        "\n",
        "*   Investigating how different features affect the product purchased:\n",
        "    \n",
        "*   Product vs Gender: Examining how gender influences product choice.\n",
        "    \n",
        "*   Product vs MaritalStatus: Analyzing how marital status impacts product selection.\n",
        "    \n",
        "*   Product vs Age: Understanding how age affects product purchasing decisions."
      ],
      "metadata": {
        "id": "kjfMXqOLiWq-"
      }
    },
    {
      "cell_type": "code",
      "source": [
        "plt.figure(figsize=(20, 10))\n",
        "\n",
        "for index, col in enumerate(all_columns):\n",
        "  if col in [\"Age\", \"MaritalStatus\", \"Gender\"]:\n",
        "    plt.subplot(2, 3, index+1)\n",
        "    sns.countplot(x='Product', hue=col, data=df)\n",
        "    plt.title(f'Product vs {col} Count Plot (figure {index+1})')\n",
        "    plt.xticks(rotation=45)\n",
        "\n",
        "plt.tight_layout()\n",
        "plt.show()"
      ],
      "metadata": {
        "id": "ATOsWN04hxjt"
      },
      "execution_count": null,
      "outputs": []
    },
    {
      "cell_type": "markdown",
      "source": [
        "Multivariate Analysis\n",
        "---------------------\n",
        "\n",
        "Pairplots for Feature Relationships\n",
        "-----------------------------------\n",
        "\n",
        "*   Create pairplots to visualize the relationship between features."
      ],
      "metadata": {
        "id": "FtDgzCazs3rH"
      }
    },
    {
      "cell_type": "code",
      "source": [
        "sns.pairplot(df, hue=\"Product\")\n",
        "plt.show()"
      ],
      "metadata": {
        "id": "H8ypDx1vi2GG"
      },
      "execution_count": null,
      "outputs": []
    },
    {
      "cell_type": "markdown",
      "source": [
        "Correlation Analysis\n",
        "--------------------\n",
        "\n",
        "Heatmap Visualization and Observations\n",
        "--------------------------------------\n",
        "\n",
        "*   Display the correlation matrix on a heatmap.\n",
        "    \n",
        "*   Provide a brief summary of key findings and observations."
      ],
      "metadata": {
        "id": "HJxTEd-FtyME"
      }
    },
    {
      "cell_type": "code",
      "source": [
        "sns.heatmap(df.corr(numeric_only=True),annot=True)\n",
        "plt.show()\n",
        "\n",
        "'''\n",
        "Age:\n",
        "Age has a moderate positive correlation with Income (0.513414). This suggests that older individuals tend to have higher incomes.\n",
        "Age has a weak positive correlation with Education (0.280496).\n",
        "Age has very weak positive correlation with Usage(0.015064), Fitness(0.061105) and Miles(0.036618).\n",
        "Education:\n",
        "Education has a moderate positive correlation with Income (0.625827). Higher education levels tend to be associated with higher incomes.\n",
        "Education has moderate positive correlation with Usage(0.395155), Fitness(0.410581) and Miles(0.307284).\n",
        "Usage:\n",
        "Usage has a strong positive correlation with Fitness (0.668606) and Miles (0.759130). People who use the product more tend to have higher fitness levels and travel more miles.\n",
        "Usage has moderate positive correlation with Income(0.519537) and Education(0.395155).\n",
        "Fitness:\n",
        "Fitness has a strong positive correlation with Miles (0.785702). Higher fitness levels are associated with more miles traveled.\n",
        "Fitness has moderate positive correlation with Income(0.535005) and Education(0.410581).\n",
        "Income:\n",
        "Income has a moderate positive correlation with Miles (0.543473). Higher incomes tend to be associated with more miles traveled.\n",
        "Miles:\n",
        "Miles has moderate positive correlation with Income(0.543473) and Education(0.307284).\n",
        "'''"
      ],
      "metadata": {
        "id": "YNaL2lq0twEI"
      },
      "execution_count": null,
      "outputs": []
    },
    {
      "cell_type": "markdown",
      "source": [
        "## Outlier Detection:\n",
        "\n",
        "* Check for outliers using the IQR (Interquartile Range) method."
      ],
      "metadata": {
        "id": "VbuQHGXixuMw"
      }
    },
    {
      "cell_type": "code",
      "source": [
        "# Check data distribution using scipy\n",
        "from scipy import stats\n",
        "\n",
        "for col in numerical_columns:\n",
        "  statistic, pvalue = stats.shapiro(df[col])\n",
        "  if pvalue > 0.05:\n",
        "    print(f\"The '{col}' data is normally distributed\")\n",
        "    print(\"----------------------------------------\")\n",
        "  else:\n",
        "    print(f\"The '{col}' data is not normally distributed\")\n",
        "    print(\"----------------------------------------\")"
      ],
      "metadata": {
        "id": "igKvSvzAt7Vy"
      },
      "execution_count": null,
      "outputs": []
    },
    {
      "cell_type": "code",
      "source": [
        "# Check data skewness using scipy\n",
        "for col in numerical_columns:\n",
        "  skewness = df[col].skew()\n",
        "  if skewness > 0.5:\n",
        "    print(f\"The '{col}' data is positively skewed\")\n",
        "    print(\"----------------------------------------\")\n",
        "  elif skewness < -0.5:\n",
        "    print(f\"The '{col}' data is negatively skewed\")\n",
        "    print(\"----------------------------------------\")\n",
        "  else:\n",
        "    print(f\"'{col}' not strongly skewed\")\n",
        "    print(\"----------------------------------------\")"
      ],
      "metadata": {
        "id": "v_MbnwlmwegK"
      },
      "execution_count": null,
      "outputs": []
    },
    {
      "cell_type": "code",
      "source": [
        "#Check for outliers using the IQR\n",
        "def get_bounds(col):\n",
        "  Q1 = df[col].quantile(0.25)\n",
        "  Q3 = df[col].quantile(0.75)\n",
        "\n",
        "  IQR = Q3 - Q1\n",
        "\n",
        "  lower_bound = Q1 - 1.5*IQR\n",
        "  upper_bound = Q3 + 1.5*IQR\n",
        "\n",
        "  return lower_bound, upper_bound\n",
        "\n",
        "\n",
        "for col in numerical_columns:\n",
        "  lower_bound, upper_bound = get_bounds(col)\n",
        "\n",
        "  outliers = df[(df[col] < lower_bound) | (df[col] > upper_bound)]\n",
        "  print(f\"The {col} data has {len(outliers)} outliers\")\n",
        "  display(outliers)\n",
        "  print(\"----------------------------------------\")"
      ],
      "metadata": {
        "id": "0o7rjUa2wgfy"
      },
      "execution_count": null,
      "outputs": []
    },
    {
      "cell_type": "markdown",
      "source": [
        "## 7. Conditional Probabilities:\n",
        "\n",
        "* What percent of customers have purchased KP281, KP481, or KP781?\n",
        "* Create frequency tables and calculate the percentage as follows:\n",
        "\n",
        "    * **Product – Gender**\n",
        "        * Percentage of a Male customer purchasing a treadmill.\n",
        "        * Percentage of a Female customer purchasing KP781 treadmill.\n",
        "        * Probability of a customer being a Female given that Product is KP281.\n",
        "    * **Product – Age**\n",
        "        * Percentage of customers with Age between 20s and 30s among all customers.\n",
        "    * **Product – Income**\n",
        "        * Percentage of a low-income customer purchasing a treadmill.\n",
        "        * Percentage of a high-income customer purchasing KP781 treadmill.\n",
        "        * Percentage of customer with high-income salary buying treadmill given that Product is KP781.\n",
        "    * **Product – Fitness**\n",
        "        * Percentage of customers that have fitness level 5.\n",
        "        * Percentage of a customer with Fitness Level 5 purchasing KP781 treadmill.\n",
        "        * Percentage of customer with fitness level 5 buying KP781 treadmill\n",
        "    * **Product - Marital Status**\n",
        "        * Percentage of customers who are partnered using treadmills."
      ],
      "metadata": {
        "id": "LcKFLWGUyLfZ"
      }
    },
    {
      "cell_type": "code",
      "source": [
        "#percent of customers have purchased KP281, KP481, or KP781\n",
        "customer_per_by_product = (df[\"Product\"].value_counts() / len(df)) * 100\n",
        "customer_per_by_product"
      ],
      "metadata": {
        "id": "Oh5H8AATxIkU"
      },
      "execution_count": null,
      "outputs": []
    },
    {
      "cell_type": "code",
      "source": [
        "# Frequency table of Product and Gender\n",
        "product_gender_freq = pd.crosstab(df['Product'], df['Gender'])\n",
        "product_gender_freq"
      ],
      "metadata": {
        "id": "CqqgHYvsym5D"
      },
      "execution_count": null,
      "outputs": []
    },
    {
      "cell_type": "code",
      "source": [
        "#Percentage of a Male customer purchasing a treadmill.\n",
        "totla_male = product_gender_freq['Male'].sum()\n",
        "totla_male\n",
        "male_purchase_percent = totla_male / len(df) * 100\n",
        "round(male_purchase_percent, 2)"
      ],
      "metadata": {
        "id": "yAD_f8_ly90k"
      },
      "execution_count": null,
      "outputs": []
    },
    {
      "cell_type": "code",
      "source": [
        "#Percentage of a Female customer purchasing KP781 treadmill.\n",
        "total_female_buy_KP281 = product_gender_freq.loc['KP281', 'Female']\n",
        "total_female = product_gender_freq['Female'].sum()\n",
        "\n",
        "female_purchase_percent_KP281 = (total_female_buy_KP281 / total_female) * 100\n",
        "round(female_purchase_percent_KP281, 2)"
      ],
      "metadata": {
        "id": "wX45IDxuzc7a"
      },
      "execution_count": null,
      "outputs": []
    },
    {
      "cell_type": "code",
      "source": [
        "#Probability of a customer being a Female given that Product is KP281.\n",
        "total_kp281 = product_gender_freq.loc['KP281'].sum()\n",
        "probability_female_given_kp281 = (total_female_buy_KP281 / total_kp281) * 100\n",
        "\n",
        "print(f\"Probability of a customer being female given KP281: {probability_female_given_kp281:.2f}%\")"
      ],
      "metadata": {
        "id": "1pJFwZla0CnS"
      },
      "execution_count": null,
      "outputs": []
    },
    {
      "cell_type": "code",
      "source": [
        "#Percentage of customers with Age between 20s and 30s among all customers.\n",
        "filtered_ages = df[(df['Age'] >= 20) & (df['Age'] <= 30)]\n",
        "\n",
        "percent = len(filtered_ages) / len(df) * 100\n",
        "round(percent, 2)"
      ],
      "metadata": {
        "id": "RkZKN5HA1FU3"
      },
      "execution_count": null,
      "outputs": []
    },
    {
      "cell_type": "code",
      "source": [
        "#Percentage of a low-income customer purchasing a treadmill.\n",
        "income_mean = df['Income'].mean()\n",
        "low_income_customers = df[df['Income'] < income_mean]\n",
        "round(len(low_income_customers) / len(df) * 100, 2)"
      ],
      "metadata": {
        "id": "sLM7uMFN1Z3-"
      },
      "execution_count": null,
      "outputs": []
    },
    {
      "cell_type": "code",
      "source": [
        "#Percentage of a high-income customer purchasing KP781 treadmill.\n",
        "high_income_customers = df[df['Income'] > income_mean]\n",
        "customer_KP281 = high_income_customers.loc[high_income_customers[\"Product\"].isin([\"KP281\"])]\n",
        "round(len(customer_KP281) / len(high_income_customers) * 100, 2)\n"
      ],
      "metadata": {
        "id": "GWVsKTHI9_Kf"
      },
      "execution_count": null,
      "outputs": []
    },
    {
      "cell_type": "code",
      "source": [
        "#Percentage of customer with high-income salary buying treadmill given that Product is KP781\n",
        "kp781_customers = df[df['Product'] == 'KP781']\n",
        "\n",
        "# Filter for high-income customers within KP781 customers\n",
        "high_income_given_kp781 = kp781_customers[kp781_customers['Income'] >= income_mean]\n",
        "\n",
        "# Calculate the percentage\n",
        "high_income_given_kp781_percent = (len(high_income_given_kp781) / len(kp781_customers)) * 100\n",
        "display(high_income_given_kp781_percent)"
      ],
      "metadata": {
        "id": "C0p9dtk7-z0i"
      },
      "execution_count": null,
      "outputs": []
    },
    {
      "cell_type": "code",
      "source": [
        "#Percentage of customers that have fitness level 5.\n",
        "fitness_5_customer = df[df[\"Fitness\"] == 5]\n",
        "round(len(fitness_5_customer) / len(df) *100, 2)"
      ],
      "metadata": {
        "id": "6Dw5TI06_QLK"
      },
      "execution_count": null,
      "outputs": []
    },
    {
      "cell_type": "code",
      "source": [
        "#Percentage of a customer with Fitness Level 5 purchasing KP781 treadmill.\n",
        "KP781_customer = fitness_5_customer[df[\"Product\"] == \"KP781\"]\n",
        "round(len(KP781_customer) / len(df) *100, 2)"
      ],
      "metadata": {
        "id": "IGkLpI8t_i9A"
      },
      "execution_count": null,
      "outputs": []
    },
    {
      "cell_type": "code",
      "source": [
        "#Percentage of customers who are partnered using treadmills.\n",
        "round(len(df[df[\"MaritalStatus\"] == \"Partnered\"]) / len(df) * 100, 2)"
      ],
      "metadata": {
        "id": "FJPAIYik_zee"
      },
      "execution_count": null,
      "outputs": []
    },
    {
      "cell_type": "markdown",
      "source": [
        "## Data Profiling Report"
      ],
      "metadata": {
        "id": "dFCzBasmSBO5"
      }
    },
    {
      "cell_type": "code",
      "source": [
        "!pip install ydata-profiling"
      ],
      "metadata": {
        "id": "yz-V-FCCALhf"
      },
      "execution_count": null,
      "outputs": []
    },
    {
      "cell_type": "code",
      "source": [
        "from ydata_profiling import ProfileReport"
      ],
      "metadata": {
        "id": "VLY78cAeSoIC"
      },
      "execution_count": null,
      "outputs": []
    },
    {
      "cell_type": "code",
      "source": [
        "Profile = ProfileReport(df,title=\"aerofit_treadmill dataset profile\")"
      ],
      "metadata": {
        "id": "scu3XqX7Sr3g"
      },
      "execution_count": null,
      "outputs": []
    },
    {
      "cell_type": "code",
      "source": [
        "Profile.to_notebook_iframe()"
      ],
      "metadata": {
        "id": "E5Rz0IhKS2dQ"
      },
      "execution_count": null,
      "outputs": []
    },
    {
      "cell_type": "markdown",
      "source": [
        "# Actionable Insights and Recommendations based on the AeroFit Treadmill Data Analysis\n",
        "\n",
        "## Executive Summary:\n",
        "\n",
        "This report summarizes key findings from the analysis of AeroFit treadmill customer data, identifying customer segments and providing recommendations to refine marketing and product strategies.  The analysis reveals distinct customer profiles for each treadmill model (KP281, KP481, KP781), based on demographics, usage patterns, and fitness levels.\n",
        "\n",
        "## Key Insights:\n",
        "\n",
        "* **Product Segmentation:**  Clear distinctions exist between customer segments for each treadmill.  KP781 buyers tend to be higher-income, more educated, and have a higher fitness level and usage frequency.  KP281 buyers form a distinct group, with lower income, education, and fitness levels. KP481 attracts a mid-range profile.\n",
        "\n",
        "* **Demographics:**  Income and education levels strongly correlate with product choice.  Higher-end models attract higher earners and those with more education.  Age shows a moderate correlation with income.\n",
        "\n",
        "* **Usage and Fitness:**  As expected, Usage and Fitness levels positively correlate with product choice and income.  Customers who use the treadmills more frequently and rate their fitness higher tend to opt for advanced models and have higher income.\n",
        "\n",
        "* **Marital Status:** Marital status exhibits a slight influence on product choice, although it's less significant than income and fitness.\n",
        "\n",
        "\n",
        "## Recommendations:\n",
        "\n",
        "1. **Targeted Marketing:** Develop targeted marketing campaigns for each product segment.  For instance, leverage online advertising platforms to reach high-income and educated individuals interested in advanced features (KP781).  Focus on value and affordability when promoting the entry-level model (KP281) to those with lower income and fitness goals.\n",
        "\n",
        "2. **Product Development:** Use customer insights to develop new features and enhancements. For example, consider adding features desired by KP781 users (e.g., advanced training programs, connectivity options) to future models.  Likewise, consider simplifying and cost-reducing features for the entry-level models (KP281) without compromising basic functionality.  Continuously collect and analyze user feedback.\n",
        "\n",
        "3. **Pricing Strategy:** Assess the price sensitivity of each segment. While higher priced models have shown to appeal to certain segments, analyze whether there is price optimization opportunities to appeal to a broader customer base.\n",
        "\n",
        "4. **Customer Relationship Management:** Implement customer segmentation in CRM system to personalize communications and offers. Tailor marketing messages to the unique needs of each customer group and their product preferences.\n",
        "\n",
        "5. **Further Investigation:** Conduct deeper analysis into the subtle influence of marital status, gender, and age to refine segmentation strategies and product offerings. Additional research might include gathering customer feedback through surveys and focus groups. Investigate correlation between Product and Miles to understand usage patterns with different products.\n",
        "\n",
        "6. **Outlier Analysis:** Address outliers in income and usage. Identify and understand the reasons for extreme values.  These might represent opportunities or data errors.\n",
        "\n",
        "\n",
        "## Conclusion:\n",
        "\n",
        "By implementing these recommendations, AeroFit can improve its product offerings, refine its marketing strategies, and boost sales by targeting the right customers with the right message. Continuous monitoring and data analysis will ensure the effectiveness of these strategies.\n"
      ],
      "metadata": {
        "id": "qQP2E0Xx6s8e"
      }
    },
    {
      "cell_type": "code",
      "source": [
        "print(\"====================== The END =======================\")"
      ],
      "metadata": {
        "id": "PU2LxMykS4nI"
      },
      "execution_count": null,
      "outputs": []
    }
  ]
}